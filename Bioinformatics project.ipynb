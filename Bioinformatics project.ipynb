{
 "cells": [
  {
   "cell_type": "code",
   "execution_count": null,
   "id": "fd310c4c",
   "metadata": {},
   "outputs": [],
   "source": [
    "import numpy as np\n",
    "import matplotlib.pyplot as plt\n",
    "from sklearn.linear_model import LinearRegression"
   ]
  },
  {
   "cell_type": "code",
   "execution_count": null,
   "id": "841c1b46",
   "metadata": {},
   "outputs": [],
   "source": [
    "# Define the DNA sequence\n",
    "dna_sequence = \"AACGAAAAGAGAATTTCATAATACGTGCTGTCCCACGCGCATGGTACATT\""
   ]
  },
  {
   "cell_type": "code",
   "execution_count": null,
   "id": "6bf8aa46",
   "metadata": {},
   "outputs": [],
   "source": [
    "# Preprocessing\n",
    "sequence_length = len(dna_sequence)\n",
    "gc_count = dna_sequence.count('G') + dna_sequence.count('C')"
   ]
  },
  {
   "cell_type": "code",
   "execution_count": null,
   "id": "79bcb518",
   "metadata": {},
   "outputs": [],
   "source": [
    "# Visualization\n",
    "nucleotides = ['A', 'T', 'G', 'C']\n",
    "counts = [dna_sequence.count(n) for n in nucleotides]\n",
    "plt.bar(nucleotides, counts, color=['skyblue', 'yellowgreen', 'coral', 'lightcoral'])\n",
    "plt.title('Nucleotide Occurrences')\n",
    "plt.show()"
   ]
  },
  {
   "cell_type": "code",
   "execution_count": null,
   "id": "22f74f99",
   "metadata": {},
   "outputs": [],
   "source": [
    "# Modeling\n",
    "X, Y = np.array([i for i in range(sequence_length)]).reshape(-1, 1), np.array([ord(dna_sequence[i]) for i in range(sequence_length)])\n",
    "model = LinearRegression().fit(X, Y)"
   ]
  },
  {
   "cell_type": "code",
   "execution_count": null,
   "id": "f4f4c94e",
   "metadata": {},
   "outputs": [],
   "source": [
    "# Results\n",
    "print(\"Coefficients:\", model.coef_)\n",
    "print(f\"Predicted value at index 25: {chr(int(model.predict([[25]])))}\")"
   ]
  },
  {
   "cell_type": "code",
   "execution_count": null,
   "id": "57f65576",
   "metadata": {},
   "outputs": [],
   "source": [
    "# Define function to count nucleotide occurrences\n",
    "def count_nucleotide(sequence, nucleotide):\n",
    "    return sequence.count(nucleotide)"
   ]
  },
  {
   "cell_type": "code",
   "execution_count": null,
   "id": "ac757054",
   "metadata": {},
   "outputs": [],
   "source": [
    "# Loop through each nucleotide and count its occurrences\n",
    "for nucleotide in nucleotides:\n",
    "    occurrence_count = count_nucleotide(dna_sequence, nucleotide)\n",
    "    print(f\"The nucleotide {nucleotide} appears {occurrence_count} times in the sequence.\")"
   ]
  },
  {
   "cell_type": "code",
   "execution_count": null,
   "id": "5280ba13",
   "metadata": {},
   "outputs": [],
   "source": [
    "# Display the DNA sequence\n",
    "print(\"DNA Sequence:\", dna_sequence)"
   ]
  },
  {
   "cell_type": "code",
   "execution_count": null,
   "id": "7e502b27",
   "metadata": {},
   "outputs": [],
   "source": [
    "# Calculate the GC and AT content\n",
    "gc_content = (dna_sequence.count('G') + dna_sequence.count('C')) / len(dna_sequence) * 100\n",
    "at_content = (dna_sequence.count('A') + dna_sequence.count('T')) / len(dna_sequence) * 100"
   ]
  },
  {
   "cell_type": "code",
   "execution_count": null,
   "id": "8c90b948",
   "metadata": {},
   "outputs": [],
   "source": [
    "# Display the GC and AT content\n",
    "print(\"GC content:\", round(gc_content, 2), \"%\")\n",
    "print(\"AT content:\", round(at_content, 2), \"%\")"
   ]
  },
  {
   "cell_type": "code",
   "execution_count": null,
   "id": "c221fa58",
   "metadata": {},
   "outputs": [],
   "source": [
    "# Perform sequence manipulation - slicing\n",
    "sliced_sequence = dna_sequence[3:10]\n",
    "print(\"Sliced sequence:\", sliced_sequence)"
   ]
  }
 ],
 "metadata": {
  "kernelspec": {
   "display_name": "Python 3 (ipykernel)",
   "language": "python",
   "name": "python3"
  },
  "language_info": {
   "codemirror_mode": {
    "name": "ipython",
    "version": 3
   },
   "file_extension": ".py",
   "mimetype": "text/x-python",
   "name": "python",
   "nbconvert_exporter": "python",
   "pygments_lexer": "ipython3",
   "version": "3.9.7"
  }
 },
 "nbformat": 4,
 "nbformat_minor": 5
}
